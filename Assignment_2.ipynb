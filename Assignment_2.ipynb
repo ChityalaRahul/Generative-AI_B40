{
  "nbformat": 4,
  "nbformat_minor": 0,
  "metadata": {
    "colab": {
      "provenance": [],
      "authorship_tag": "ABX9TyPsoeG0XgMMk1XWQI+hxuWc",
      "include_colab_link": true
    },
    "kernelspec": {
      "name": "python3",
      "display_name": "Python 3"
    },
    "language_info": {
      "name": "python"
    }
  },
  "cells": [
    {
      "cell_type": "markdown",
      "metadata": {
        "id": "view-in-github",
        "colab_type": "text"
      },
      "source": [
        "<a href=\"https://colab.research.google.com/github/ChityalaRahul/Generative-AI_B40/blob/main/Assignment_2.ipynb\" target=\"_parent\"><img src=\"https://colab.research.google.com/assets/colab-badge.svg\" alt=\"Open In Colab\"/></a>"
      ]
    },
    {
      "cell_type": "markdown",
      "source": [
        "1.Develop mathematical modeling for the given case study and find solution using Python\n",
        "\n",
        "Consider a chocolate manufacturing company that produces only two types of chocolate i.e. A and B. Both the chocolates require Milk and Choco only. To manufacture each unit of A and B, the following quantities ar required: Each unit of A requires 1 unit of Milk and 3 units of Choco Each unit of B requires 1 unit of Milk and 2 units of Choco The company kitchen has a total of 5 units of Milk and 12 units of Choco. On each sale, the company makes a profit of Rs 6 per anit A sold and Rs 5 per unit B sold. Now, the company wishes to maximize its profit. How many units of A and B should it produce respectively?"
      ],
      "metadata": {
        "id": "0OXY4jqjUWbz"
      }
    },
    {
      "cell_type": "code",
      "execution_count": 2,
      "metadata": {
        "colab": {
          "base_uri": "https://localhost:8080/"
        },
        "id": "LMlsvGRMURMw",
        "outputId": "b7af571c-5da8-4a7c-a785-5dab85a8b7b4"
      },
      "outputs": [
        {
          "output_type": "stream",
          "name": "stdout",
          "text": [
            "Optimal production: 2.00 units of A and 3.00 units of B\n",
            "Maximum profit: Rs 27.00\n"
          ]
        }
      ],
      "source": [
        "from scipy.optimize import linprog\n",
        "\n",
        "\n",
        "c = [-6, -5]  # Negative because linprog minimizes\n",
        "\n",
        "# Coefficients of the inequality constraints\n",
        "A = [\n",
        "    [1, 1],    # Milk constraint\n",
        "        [3, 2]     # Choco constraint\n",
        "        ]\n",
        "\n",
        "# Right-hand side of the constraints\n",
        "b = [5, 12]\n",
        "\n",
        "# Bounds for x (units of A) and y (units of B)\n",
        "bounds = [(0, None), (0, None)]\n",
        "\n",
        "# Solve the linear programming problem\n",
        "result = linprog(c, A_ub=A, b_ub=b, bounds=bounds, method=\"highs\")\n",
        "\n",
        "# Extract the results\n",
        "if result.success:\n",
        "\n",
        "    x, y = result.x\n",
        "    max_profit = -result.fun  # Convert back to maximization\n",
        "    print(f\"Optimal production: {x:.2f} units of A and {y:.2f} units of B\")\n",
        "    print(f\"Maximum profit: Rs {max_profit:.2f}\")\n",
        "\n",
        "else:\n",
        "\n",
        "\n",
        "  print(\"No solution found.\")\n"
      ]
    },
    {
      "cell_type": "code",
      "source": [
        "from scipy.optimize import linprog\n",
        "\n",
        "\n",
        "c = [-50, -120]\n",
        "\n",
        "\n",
        "A = [\n",
        "    [1, 1],\n",
        "        [7000, 2000],\n",
        "            [10, 30]\n",
        "            ]\n",
        "\n",
        "\n",
        "b = [110, 700000, 1200]\n",
        "\n",
        "\n",
        "bounds = [(0, None), (0, None)]\n",
        "\n",
        "\n",
        "result = linprog(c, A_ub=A, b_ub=b, bounds=bounds, method=\"highs\")\n",
        "\n",
        "\n",
        "if result.success:\n",
        "   x, y = result.x\n",
        "   max_profit = -result.fun  # Convert back to maximization\n",
        "   print(f\"Optimal allocation: {x:.2f} hectares of Wheat and {y:.2f} hectares of Barley\")\n",
        "   print(f\"Maximum profit: Rs {max_profit:.2f}\")\n",
        "else:\n",
        "   print(\"No solution found.\")\n"
      ],
      "metadata": {
        "colab": {
          "base_uri": "https://localhost:8080/"
        },
        "id": "XgRSB7XtUh5U",
        "outputId": "55fa96fb-c7f7-48d1-ab6e-4b55ce4f0719"
      },
      "execution_count": 1,
      "outputs": [
        {
          "output_type": "stream",
          "name": "stdout",
          "text": [
            "Optimal allocation: 97.89 hectares of Wheat and 7.37 hectares of Barley\n",
            "Maximum profit: Rs 5778.95\n"
          ]
        }
      ]
    }
  ]
}